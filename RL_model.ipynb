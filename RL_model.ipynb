{
  "nbformat": 4,
  "nbformat_minor": 0,
  "metadata": {
    "colab": {
      "provenance": [],
      "authorship_tag": "ABX9TyMNdIBMLorViKZtedf9J2Xn",
      "include_colab_link": true
    },
    "kernelspec": {
      "name": "python3",
      "display_name": "Python 3"
    },
    "language_info": {
      "name": "python"
    }
  },
  "cells": [
    {
      "cell_type": "markdown",
      "metadata": {
        "id": "view-in-github",
        "colab_type": "text"
      },
      "source": [
        "<a href=\"https://colab.research.google.com/github/pranjalko/RL_in_gymspace/blob/main/RL_model.ipynb\" target=\"_parent\"><img src=\"https://colab.research.google.com/assets/colab-badge.svg\" alt=\"Open In Colab\"/></a>"
      ]
    },
    {
      "cell_type": "code",
      "execution_count": null,
      "metadata": {
        "id": "sHaWCdyGhW76"
      },
      "outputs": [],
      "source": [
        "from gym import Env\n",
        "from gym.spaces import Discrete , Box\n",
        "import numpy as np\n",
        "import random"
      ]
    },
    {
      "cell_type": "code",
      "source": [
        "class ShowerEnv(Env):\n",
        "  def __init__(self):\n",
        "    self.action_space = Discrete(3)\n",
        "    self.observation_space = Box(low=np.array([0]) , high=np.array([100]))\n",
        "    self.state = 38 + random.randint(-3,3)\n",
        "    self.shower_length = 60\n",
        "\n",
        "  def step(self , action):\n",
        "    self.state += action -1\n",
        "    self.shower_length -= 1\n",
        "\n",
        "    if self.state >= 37 and self.state <= 39:\n",
        "      reward = 1\n",
        "    else:\n",
        "      reward = -1\n",
        "\n",
        "    if self.shower_length <= 0:\n",
        "      done = True\n",
        "    else:\n",
        "      done = False\n",
        "\n",
        "    self.state += random.randint(-1,1)\n",
        "\n",
        "    info = {}\n",
        "\n",
        "    return self.state , reward , done , info\n",
        "\n",
        "\n",
        "  def render(self):\n",
        "    pass\n",
        "  def reset(self):\n",
        "    self.state = 38 + random.randint(-3,3)\n",
        "    self.shower_length = 60\n",
        "    return self.state"
      ],
      "metadata": {
        "id": "V7FZejwCh4Wi"
      },
      "execution_count": null,
      "outputs": []
    },
    {
      "cell_type": "code",
      "source": [
        "env = ShowerEnv()\n",
        "env.observation_space.sample()"
      ],
      "metadata": {
        "colab": {
          "base_uri": "https://localhost:8080/"
        },
        "id": "zfyoTUrwsbuF",
        "outputId": "ce351e16-239a-46e1-bf9f-dffc7d4895a2"
      },
      "execution_count": null,
      "outputs": [
        {
          "output_type": "execute_result",
          "data": {
            "text/plain": [
              "array([89.554085], dtype=float32)"
            ]
          },
          "metadata": {},
          "execution_count": 12
        }
      ]
    },
    {
      "cell_type": "code",
      "source": [
        "from tensorflow.keras.models import Sequential\n",
        "from tensorflow.keras.layers import Dense , Flatten\n",
        "from tensorflow.keras.optimizers import Adam"
      ],
      "metadata": {
        "id": "OvwD_9R7sivV"
      },
      "execution_count": null,
      "outputs": []
    },
    {
      "cell_type": "code",
      "source": [
        "states = env.observation_space.shape\n",
        "actions = env.action_space.n"
      ],
      "metadata": {
        "colab": {
          "base_uri": "https://localhost:8080/"
        },
        "id": "kFZjX-U0x4-a",
        "outputId": "54c1194f-3cdb-4734-a0c0-df972d88f171"
      },
      "execution_count": null,
      "outputs": [
        {
          "output_type": "stream",
          "name": "stderr",
          "text": [
            "/usr/local/lib/python3.10/dist-packages/ipykernel/ipkernel.py:283: DeprecationWarning: `should_run_async` will not call `transform_cell` automatically in the future. Please pass the result to `transformed_cell` argument and any exception that happen during thetransform in `preprocessing_exc_tuple` in IPython 7.17 and above.\n",
            "  and should_run_async(code)\n"
          ]
        }
      ]
    },
    {
      "cell_type": "code",
      "source": [
        "actions"
      ],
      "metadata": {
        "colab": {
          "base_uri": "https://localhost:8080/"
        },
        "id": "UUTV5k4RyKHS",
        "outputId": "95eeea94-2fa0-49f0-b2e6-0e44a4fa0209"
      },
      "execution_count": null,
      "outputs": [
        {
          "output_type": "stream",
          "name": "stderr",
          "text": [
            "/usr/local/lib/python3.10/dist-packages/ipykernel/ipkernel.py:283: DeprecationWarning: `should_run_async` will not call `transform_cell` automatically in the future. Please pass the result to `transformed_cell` argument and any exception that happen during thetransform in `preprocessing_exc_tuple` in IPython 7.17 and above.\n",
            "  and should_run_async(code)\n"
          ]
        },
        {
          "output_type": "execute_result",
          "data": {
            "text/plain": [
              "3"
            ]
          },
          "metadata": {},
          "execution_count": 25
        }
      ]
    },
    {
      "cell_type": "code",
      "source": [
        "def build_model(states , actions):\n",
        "  model = Sequential()\n",
        "  model.add(Dense(24 , activation='relu' , input_shape=states ))\n",
        "  model.add(Dense(24 , activation='relu' ))\n",
        "  model.add(Dense(actions , activation='linear' ))\n",
        "  return model\n",
        "\n"
      ],
      "metadata": {
        "id": "QFNVlQwlwtH5"
      },
      "execution_count": null,
      "outputs": []
    },
    {
      "cell_type": "code",
      "source": [
        "model = build_model(states, actions)"
      ],
      "metadata": {
        "id": "_IjF4fBkxSHZ"
      },
      "execution_count": null,
      "outputs": []
    },
    {
      "cell_type": "code",
      "source": [
        "model.summary()"
      ],
      "metadata": {
        "colab": {
          "base_uri": "https://localhost:8080/"
        },
        "id": "mIXAToRhxZEP",
        "outputId": "eacd48c7-ef59-45a6-de77-bfe36b3fdc3f"
      },
      "execution_count": null,
      "outputs": [
        {
          "output_type": "stream",
          "name": "stdout",
          "text": [
            "Model: \"sequential_3\"\n",
            "_________________________________________________________________\n",
            " Layer (type)                Output Shape              Param #   \n",
            "=================================================================\n",
            " dense_3 (Dense)             (None, 24)                48        \n",
            "                                                                 \n",
            " dense_4 (Dense)             (None, 24)                600       \n",
            "                                                                 \n",
            " dense_5 (Dense)             (None, 3)                 75        \n",
            "                                                                 \n",
            "=================================================================\n",
            "Total params: 723\n",
            "Trainable params: 723\n",
            "Non-trainable params: 0\n",
            "_________________________________________________________________\n"
          ]
        }
      ]
    },
    {
      "cell_type": "code",
      "source": [],
      "metadata": {
        "id": "hs-VfkpJzL35"
      },
      "execution_count": null,
      "outputs": []
    }
  ]
}